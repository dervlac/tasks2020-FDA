{
 "cells": [
  {
   "cell_type": "markdown",
   "metadata": {},
   "source": [
    "# Tasks 2020\n",
    "***\n",
    "\n",
    "The following contains solutions to the task assignments for the Fundamentals of Data Analysis module 2020.\n",
    "\n",
    "The author of the following tasks is Dervla Candon (G00283361@gmit.ie)\n",
    "***"
   ]
  },
  {
   "cell_type": "markdown",
   "metadata": {},
   "source": [
    "## Task 1\n",
    "\n",
    "_Write a Python function called counts that takes a list as input and returns a dictionary of unique items in the list as keys and the number of times each item appears as values. So, the input ['A', 'A', 'B', 'C', 'A'] should have output {'A': 3, 'B': 1, 'C': 1} . Your code should not depend on any module from the standard library or otherwise. You should research the task first and include a description with references of your algorithm in the notebook._\n"
   ]
  },
  {
   "cell_type": "markdown",
   "metadata": {},
   "source": [
    "To complete this task, the function will need to perform the following steps:\n",
    " * take a list as input\n",
    " * iterate through the list\n",
    " * if an element is unique, it is added to the output set and assigned a count of 1\n",
    " * if an element is not unique, its count in the output set is increased by 1\n",
    " \n",
    "In order to produce an output with a key:value format, a dictionary set must be used[1][2]."
   ]
  },
  {
   "cell_type": "code",
   "execution_count": 1,
   "metadata": {},
   "outputs": [],
   "source": [
    "def counts(input_list):\n",
    "    #creating an empty dictionary to hold the output\n",
    "    output = dict()\n",
    "    #for loop will iterate through each element in the input\n",
    "    for i in input_list:\n",
    "        #2 scenarios covered by if loop, either the element is new and needs to be added to the output\n",
    "        #or the element already exists in the output and the value should be increased accordingly\n",
    "        if i not in output:\n",
    "            output[i] = 1\n",
    "        else:\n",
    "            output[i] += 1\n",
    "    return output"
   ]
  },
  {
   "cell_type": "code",
   "execution_count": 2,
   "metadata": {},
   "outputs": [
    {
     "data": {
      "text/plain": [
       "{'A': 3, 'B': 1, 'C': 1}"
      ]
     },
     "execution_count": 2,
     "metadata": {},
     "output_type": "execute_result"
    }
   ],
   "source": [
    "#testing the function using the sample input in the task brief\n",
    "counts(['A','A','B','C','A'])"
   ]
  },
  {
   "cell_type": "code",
   "execution_count": 3,
   "metadata": {},
   "outputs": [
    {
     "data": {
      "text/plain": [
       "{2: 3, 4: 3, 8: 2, 6: 2, 9: 1, 5: 1, 7: 2, 1: 4}"
      ]
     },
     "execution_count": 3,
     "metadata": {},
     "output_type": "execute_result"
    }
   ],
   "source": [
    "#testing the function with further input\n",
    "x = [2,4,8,4,2,6,9,2,4,5,6,7,8,1,1,1,1,7]\n",
    "counts(x)"
   ]
  },
  {
   "cell_type": "markdown",
   "metadata": {},
   "source": [
    "***"
   ]
  },
  {
   "cell_type": "markdown",
   "metadata": {},
   "source": [
    "## Task 2\n",
    "\n",
    "_Write a Python function called dicerolls that simulates rolling dice. Your function should take two parameters: the number of dice k and the number of times to roll the dice n. The function should simulate randomly rolling k dice n times, keeping track of each total face value. It should then return a dictionary with the number of times each possible total face value occurred. So, calling the function as diceroll(k=2, n=1000) should return a dictionary like: {2:19,3:50,4:82,5:112,6:135,7:174,8:133,9:114,10:75,11:70,12:36}_\n",
    "\n",
    "_You can use any module from the Python standard library you wish and you should include a description with references of your algorithm in the notebook._"
   ]
  },
  {
   "cell_type": "markdown",
   "metadata": {},
   "source": [
    "At a high level the dicerolls function will perform the following steps:\n",
    " - randomly generate a number between 1 and 6 inclusive k times\n",
    " - sum together the k values, and store this value within an array\n",
    " - repeat the above 2 steps n times.\n",
    " - input the resulting array into the counts() function to output the results in a summarising dictionary.\n",
    " \n",
    "In order to generate random integers, randit from the random library in python will provide the required functionality [3]."
   ]
  },
  {
   "cell_type": "code",
   "execution_count": 4,
   "metadata": {},
   "outputs": [],
   "source": [
    "import random\n",
    "def dicerolls(k,n):\n",
    "    # define an empty array to store the value for each iteration of rolling the dice\n",
    "    output = []\n",
    "    for i in range(n):\n",
    "        # define roll as a variable to store the sum of all rolled dice for each throw\n",
    "        roll = 0\n",
    "        for j in range(k):\n",
    "            # randint is inclusive of the upper and lower bounds, so 1 and 6 are used as input parameters\n",
    "            roll += random.randint(1,6)\n",
    "        output.append(roll)\n",
    "    # the counts function will add up the occurence of each possible result\n",
    "    return counts(output)"
   ]
  },
  {
   "cell_type": "markdown",
   "metadata": {},
   "source": [
    "When a single dice is used, it is expected that each value would have an equal likelihood of appearing.\n",
    "\n",
    "In the below example, I have taken a large size n to better show how evenly spread the frequency is.\n",
    "For n=10000, the expected frequency of each number would be (1/6)*10000 = 1666.67"
   ]
  },
  {
   "cell_type": "code",
   "execution_count": 5,
   "metadata": {},
   "outputs": [
    {
     "data": {
      "text/plain": [
       "{5: 1657, 1: 1722, 2: 1631, 6: 1684, 3: 1597, 4: 1709}"
      ]
     },
     "execution_count": 5,
     "metadata": {},
     "output_type": "execute_result"
    }
   ],
   "source": [
    "x = dicerolls(1,10000)\n",
    "x"
   ]
  },
  {
   "cell_type": "markdown",
   "metadata": {},
   "source": [
    "As the number of dice increases, the likelihood of occurences now varies; the more ways a number can be generated, the higher the expected frequency"
   ]
  },
  {
   "cell_type": "code",
   "execution_count": 6,
   "metadata": {},
   "outputs": [
    {
     "data": {
      "text/plain": [
       "{8: 1374,\n",
       " 9: 1121,\n",
       " 12: 285,\n",
       " 11: 563,\n",
       " 6: 1362,\n",
       " 3: 554,\n",
       " 7: 1639,\n",
       " 2: 270,\n",
       " 10: 860,\n",
       " 4: 860,\n",
       " 5: 1112}"
      ]
     },
     "execution_count": 6,
     "metadata": {},
     "output_type": "execute_result"
    }
   ],
   "source": [
    "y = dicerolls(2,10000)\n",
    "y"
   ]
  },
  {
   "cell_type": "markdown",
   "metadata": {},
   "source": [
    "A plot of the single die should be approaching a uniform trend; at first glance this does not seem realistic, as the plot appears to vary greatly between die values.\n",
    "\n",
    "However, this apparent variance makes more sense when the values plotted on the y-axis are noted."
   ]
  },
  {
   "cell_type": "code",
   "execution_count": 7,
   "metadata": {},
   "outputs": [
    {
     "data": {
      "image/png": "[encoded data removed]",
      "text/plain": [
       "<Figure size 432x288 with 1 Axes>"
      ]
     },
     "metadata": {
      "needs_background": "light"
     },
     "output_type": "display_data"
    }
   ],
   "source": [
    "import matplotlib.pyplot as plt\n",
    "# method for plotting a dictionary found at [4]\n",
    "a,b = zip(*sorted(x.items()))\n",
    "plt.plot(a,b)\n",
    "plt.show()"
   ]
  },
  {
   "cell_type": "markdown",
   "metadata": {},
   "source": [
    "By setting a fixed lower and upper limit on the y-axis, the uniform trend of the results is now much more apparent."
   ]
  },
  {
   "cell_type": "code",
   "execution_count": 8,
   "metadata": {},
   "outputs": [
    {
     "data": {
      "text/plain": [
       "<function matplotlib.pyplot.show(*args, **kw)>"
      ]
     },
     "execution_count": 8,
     "metadata": {},
     "output_type": "execute_result"
    },
    {
     "data": {
      "image/png": "[encoded data removed]",
      "text/plain": [
       "<Figure size 432x288 with 1 Axes>"
      ]
     },
     "metadata": {
      "needs_background": "light"
     },
     "output_type": "display_data"
    }
   ],
   "source": [
    "plt.ylim(bottom=0,top=10000)\n",
    "plt.plot(a,b)\n",
    "plt.show"
   ]
  },
  {
   "cell_type": "markdown",
   "metadata": {},
   "source": [
    "As the number of dice increases, the graph would now be expected to peak at a central point, where there are a greater number of combinations which result in the total value.\n",
    "\n",
    "Given the symmetry between high/low values and the number of combinations which can generate those values (for example, both 2 and 12, the highest and lowest possible values, both have 1 combination which generates that result when 2 dice are used), any plot of 2 or more dice should be (roughly) symmetrical"
   ]
  },
  {
   "cell_type": "code",
   "execution_count": 9,
   "metadata": {},
   "outputs": [
    {
     "data": {
      "image/png": "[encoded data removed]",
      "text/plain": [
       "<Figure size 432x288 with 1 Axes>"
      ]
     },
     "metadata": {
      "needs_background": "light"
     },
     "output_type": "display_data"
    }
   ],
   "source": [
    "c,d = zip(*sorted(y.items()))\n",
    "plt.plot(c,d)\n",
    "plt.show()"
   ]
  },
  {
   "cell_type": "markdown",
   "metadata": {},
   "source": [
    "***"
   ]
  },
  {
   "cell_type": "markdown",
   "metadata": {},
   "source": [
    "#### References:\n",
    "\n",
    "[1] Data Structures; Python; https://docs.python.org/3/tutorial/datastructures.html\n",
    "\n",
    "[2] Python Dictionaries; W3Schools; https://www.w3schools.com/python/python_dictionaries.asp\n",
    "\n",
    "[3] Random; Python; https://docs.python.org/3/library/random.html\n",
    "\n",
    "[4] Plot Dict; matplotlib; https://discourse.matplotlib.org/t/plot-dict/15277/3"
   ]
  },
  {
   "cell_type": "code",
   "execution_count": null,
   "metadata": {},
   "outputs": [],
   "source": []
  }
 ],
 "metadata": {
  "kernelspec": {
   "display_name": "Python 3",
   "language": "python",
   "name": "python3"
  },
  "language_info": {
   "codemirror_mode": {
    "name": "ipython",
    "version": 3
   },
   "file_extension": ".py",
   "mimetype": "text/x-python",
   "name": "python",
   "nbconvert_exporter": "python",
   "pygments_lexer": "ipython3",
   "version": "3.8.3"
  }
 },
 "nbformat": 4,
 "nbformat_minor": 4
}
