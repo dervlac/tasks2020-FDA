{
 "cells": [
  {
   "cell_type": "markdown",
   "metadata": {},
   "source": [
    "# Tasks 2020\n",
    "***\n",
    "\n",
    "The following contains solutions to the task assignments for the Fundamentals of Data Analysis module 2020.\n",
    "\n",
    "The author of the following tasks is Dervla Candon (G00283361@gmit.ie)\n",
    "***"
   ]
  },
  {
   "cell_type": "markdown",
   "metadata": {},
   "source": [
    "## Task 1\n",
    "\n",
    "_Write a Python function called counts that takes a list as input and returns a dictionary of unique items in the list as keys and the number of times each item appears as values. So, the input ['A', 'A', 'B', 'C', 'A'] should have output {'A': 3, 'B': 1, 'C': 1} . Your code should not depend on any module from the standard library or otherwise. You should research the task first and include a description with references of your algorithm in the notebook._\n"
   ]
  },
  {
   "cell_type": "markdown",
   "metadata": {},
   "source": [
    "To complete this task, the function will need to perform the following steps:\n",
    " * take a list as input\n",
    " * iterate through the list\n",
    " * if an element is unique, it is added to the output set and assigned a count of 1\n",
    " * if an element is not unique, its count in the output set is increased by 1\n",
    " \n",
    "In order to produce an output with a key:value format, a dictionary set must be used[1][2]."
   ]
  },
  {
   "cell_type": "markdown",
   "metadata": {},
   "source": [
    "References:\n",
    "\n",
    "[1] Data Structures; Python; https://docs.python.org/3/tutorial/datastructures.html\n",
    "\n",
    "[2] Python Dictionaries; W3Schools; https://www.w3schools.com/python/python_dictionaries.asp"
   ]
  },
  {
   "cell_type": "code",
   "execution_count": 10,
   "metadata": {},
   "outputs": [],
   "source": [
    "def list_count(input_list):\n",
    "    #creating an empty dictionary to hold the output\n",
    "    output = dict()\n",
    "    #for loop will iterate through each element in the input\n",
    "    for i in input_list:\n",
    "        #2 scenarios covered by if loop, either the element is new and needs to be added to the output\n",
    "        #or the element already exists in the output and the value should be increased accordingly\n",
    "        if i not in output:\n",
    "            output[i] = 1\n",
    "        else:\n",
    "            output[i] += 1\n",
    "    return output"
   ]
  },
  {
   "cell_type": "code",
   "execution_count": 12,
   "metadata": {},
   "outputs": [
    {
     "data": {
      "text/plain": [
       "{'A': 3, 'B': 1, 'C': 1}"
      ]
     },
     "execution_count": 12,
     "metadata": {},
     "output_type": "execute_result"
    }
   ],
   "source": [
    "#testing the function using the sample input in the task brief\n",
    "list_count(['A','A','B','C','A'])"
   ]
  },
  {
   "cell_type": "code",
   "execution_count": 13,
   "metadata": {},
   "outputs": [
    {
     "data": {
      "text/plain": [
       "{2: 3, 4: 3, 8: 2, 6: 2, 9: 1, 5: 1, 7: 2, 1: 4}"
      ]
     },
     "execution_count": 13,
     "metadata": {},
     "output_type": "execute_result"
    }
   ],
   "source": [
    "#testing the function with further input\n",
    "x = [2,4,8,4,2,6,9,2,4,5,6,7,8,1,1,1,1,7]\n",
    "list_count(x)"
   ]
  },
  {
   "cell_type": "markdown",
   "metadata": {},
   "source": [
    "***"
   ]
  },
  {
   "cell_type": "code",
   "execution_count": null,
   "metadata": {},
   "outputs": [],
   "source": []
  }
 ],
 "metadata": {
  "kernelspec": {
   "display_name": "Python 3",
   "language": "python",
   "name": "python3"
  },
  "language_info": {
   "codemirror_mode": {
    "name": "ipython",
    "version": 3
   },
   "file_extension": ".py",
   "mimetype": "text/x-python",
   "name": "python",
   "nbconvert_exporter": "python",
   "pygments_lexer": "ipython3",
   "version": "3.8.3"
  }
 },
 "nbformat": 4,
 "nbformat_minor": 4
}
